{
 "cells": [
  {
   "cell_type": "code",
   "execution_count": null,
   "metadata": {},
   "outputs": [],
   "source": [
    "import numpy as np\n",
    "from numba import cuda\n"
   ]
  },
  {
   "cell_type": "code",
   "execution_count": null,
   "metadata": {},
   "outputs": [],
   "source": [
    "\n",
    "# Define a CUDA kernel to add two arrays\n",
    "@cuda.jit\n",
    "def add_arrays_kernel(a, b, result):\n",
    "    idx = cuda.grid(1)  # Get the absolute thread index\n",
    "    if idx < a.size:  # Ensure the index is within array bounds\n",
    "        result[idx] = a[idx] + b[idx]\n"
   ]
  },
  {
   "cell_type": "code",
   "execution_count": null,
   "metadata": {},
   "outputs": [],
   "source": [
    "\n",
    "# Host (CPU) arrays\n",
    "a = np.random.randn(10).astype(np.float32)\n",
    "b = np.random.randn(10).astype(np.float32)\n",
    "result = np.zeros_like(a)\n"
   ]
  },
  {
   "cell_type": "code",
   "execution_count": null,
   "metadata": {},
   "outputs": [],
   "source": [
    "\n",
    "# Transfer arrays to the GPU\n",
    "a_device = cuda.to_device(a)\n",
    "b_device = cuda.to_device(b)\n",
    "result_device = cuda.to_device(result)\n"
   ]
  },
  {
   "cell_type": "code",
   "execution_count": null,
   "metadata": {},
   "outputs": [],
   "source": [
    "\n",
    "# Define the number of threads per block and number of blocks\n",
    "threads_per_block = 32\n",
    "blocks_per_grid = (a.size + (threads_per_block - 1)) // threads_per_block\n"
   ]
  },
  {
   "cell_type": "code",
   "execution_count": null,
   "metadata": {},
   "outputs": [],
   "source": [
    "\n",
    "# Launch the kernel on the GPU\n",
    "add_arrays_kernel[blocks_per_grid, threads_per_block](a_device, b_device, result_device)\n"
   ]
  },
  {
   "cell_type": "code",
   "execution_count": null,
   "metadata": {},
   "outputs": [],
   "source": [
    "\n",
    "# Copy the result back to the host\n",
    "result = result_device.copy_to_host()\n",
    "\n",
    "print(\"Array A:\", a)\n",
    "print(\"Array B:\", b)\n",
    "print(\"Result (A + B):\", result)"
   ]
  }
 ],
 "metadata": {
  "language_info": {
   "name": "python"
  }
 },
 "nbformat": 4,
 "nbformat_minor": 2
}
